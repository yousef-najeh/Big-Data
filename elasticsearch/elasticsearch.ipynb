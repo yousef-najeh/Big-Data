{
 "cells": [
  {
   "cell_type": "code",
   "execution_count": null,
   "id": "102815d5-d815-4bc7-a735-dae3a124aae2",
   "metadata": {},
   "outputs": [],
   "source": [
    "from kafka import KafkaConsumer\n",
    "from elasticsearch import Elasticsearch\n",
    "from elasticsearch.helpers import bulk, BulkIndexError\n",
    "import json\n",
    "from datetime import datetime"
   ]
  },
  {
   "cell_type": "code",
   "execution_count": null,
   "id": "e95f54cd-fab0-40b8-83fd-1ed9c9f67a24",
   "metadata": {},
   "outputs": [],
   "source": [
    "#Consumer\n",
    "def consume_kafka_messages():\n",
    "    consumer = KafkaConsumer(\n",
    "        \"ready_data\",\n",
    "        bootstrap_servers=\"localhost:9094\",\n",
    "        value_deserializer=lambda m: json.loads(m.decode(\"utf-8\")),\n",
    "        api_version=(3, 8, 0),\n",
    "    )\n",
    "    print(\"Connected to Kafka topic: ready_data\")\n",
    "    \n",
    "    for message in consumer:\n",
    "        yield message.value"
   ]
  },
  {
   "cell_type": "code",
   "execution_count": null,
   "id": "660bd280-4d56-4cb1-9ef7-19cfcbd23194",
   "metadata": {},
   "outputs": [],
   "source": [
    "es = Elasticsearch(\n",
    "    \"https://localhost:9200\",\n",
    "    basic_auth=(\"elastic\", \"WcmG1w0ArSFUHJlLRAMp\"),\n",
    "    ca_certs=r\"C:\\Users\\toshiba\\Downloads\\elasticsearch-8.17.0-windows-x86_64\\elasticsearch-8.17.0\\config\\certs\\http_ca.crt\"\n",
    ")"
   ]
  },
  {
   "cell_type": "code",
   "execution_count": null,
   "id": "807330a8-f99b-4008-8926-7df19a69fe59",
   "metadata": {},
   "outputs": [],
   "source": [
    "es.indices.create(\n",
    "    index=index_name,\n",
    "    body={\n",
    "        \"mappings\": {\n",
    "            \"properties\": {\n",
    "                \"text\": {\"type\": \"text\"},\n",
    "                \"hashtags\": {\"type\": \"keyword\"},\n",
    "                \"coordinates\": {\"type\": \"geo_point\"},\n",
    "                \"created_at\": {\"type\": \"date\", \"format\": \"strict_date_optional_time\"},\n",
    "                \"sentiment\": {\"type\": \"keyword\"}\n",
    "            }\n",
    "        }\n",
    "    },\n",
    "    ignore=400 \n",
    ")"
   ]
  },
  {
   "cell_type": "code",
   "execution_count": null,
   "id": "78b6b2da-66e2-4e07-b4dd-83f3109f1fe1",
   "metadata": {},
   "outputs": [],
   "source": [
    "def process_and_insert_data():\n",
    "    actions = []\n",
    "\n",
    "    for tweet in consume_kafka_messages():\n",
    "        coordinates = None\n",
    "        if tweet[\"coordinates\"] != [\"unknown\"]:\n",
    "            try:\n",
    "                coordinates = {\n",
    "                    \"lat\": float(tweet[\"coordinates\"][0]),\n",
    "                    \"lon\": float(tweet[\"coordinates\"][1])\n",
    "                }\n",
    "            except ValueError:\n",
    "                print(f\"Invalid coordinates: {tweet['coordinates']}\")\n",
    "\n",
    "        try:\n",
    "            #reformat created_at\n",
    "            created_at = datetime.strptime(tweet[\"created_at\"], \"%Y-%m-%dT%H:%M:%S%z\").isoformat().replace(\"+00:00\", \"Z\")\n",
    "        except ValueError:\n",
    "            print(f\"Invalid date format: {tweet['created_at']}\")\n",
    "            continue\n",
    "\n",
    "        action = {\n",
    "            \"_index\": index_name,\n",
    "            \"_source\": {\n",
    "                \"text\": tweet[\"text\"],\n",
    "                \"hashtags\": list(set(tweet[\"hashtags\"])),\n",
    "                \"coordinates\": coordinates,\n",
    "                \"created_at\": created_at,\n",
    "                \"sentiment\": tweet[\"sentiment\"] if tweet[\"sentiment\"] in [\"positive\", \"negative\"] else None\n",
    "            }\n",
    "        }\n",
    "        actions.append(action)\n",
    "\n",
    "        # After accumulating a batch, insert into Elasticsearch\n",
    "        if len(actions) >= 1000:\n",
    "            try:\n",
    "                bulk(es, actions)\n",
    "                print(f\"Inserted {len(actions)} documents into the index '{index_name}'.\")\n",
    "                actions.clear()\n",
    "            except BulkIndexError as e:\n",
    "                print(f\"Failed to index some documents: {e.errors}\")\n",
    "\n",
    "    # Insert any remaining actions if there are less than 1000 left\n",
    "    if actions:\n",
    "        try:\n",
    "            bulk(es, actions)\n",
    "            print(f\"Inserted {len(actions)} documents into the index '{index_name}'.\")\n",
    "        except BulkIndexError as e:\n",
    "            print(f\"Failed to index some documents: {e.errors}\")\n",
    "\n"
   ]
  }
 ],
 "metadata": {
  "kernelspec": {
   "display_name": "Python [conda env:base] *",
   "language": "python",
   "name": "conda-base-py"
  },
  "language_info": {
   "codemirror_mode": {
    "name": "ipython",
    "version": 3
   },
   "file_extension": ".py",
   "mimetype": "text/x-python",
   "name": "python",
   "nbconvert_exporter": "python",
   "pygments_lexer": "ipython3",
   "version": "3.12.7"
  }
 },
 "nbformat": 4,
 "nbformat_minor": 5
}
